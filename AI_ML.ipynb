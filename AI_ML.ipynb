{
 "cells": [
  {
   "cell_type": "markdown",
   "metadata": {},
   "source": [
    "## List of Topics: -\n",
    "### Machine Learning:\n",
    "1. **Supervised Learning**: regression and classification problems; simple linear\n",
    "regression; multiple linear regression; ridge regression; logistic regression; k-nearest neighbour; naive Bayes classifier; linear discriminant analysis; support vector machine; decision trees; bias- variance trade-off; cross-validation methods such as leave-one-out (LOO) cross-validation; k-folds cross-validation; multi-layer perceptron; feed-forward neural network\n",
    "2. **Unsupervised Learning**: clustering algorithms; k-means/k-medoid; hierarchical clustering; top-down; bottom-up: single- linkage; multiple-linkage; dimensionality reduction; principal component analysis\n",
    "### Artificial Intelligence:\n",
    "1. Search: informed, uninformed, adversarial; logic, propositional, predicate \n",
    "2. Reasoning under uncertainty topics — conditional independence representation; exact inference through variable elimination; and approximate inference through sampling."
   ]
  },
  {
   "cell_type": "markdown",
   "metadata": {},
   "source": [
    "## Lectures & Tutorials: -\n",
    "1. **Mathematics for Machine Learning**: {https://youtube.com/playlist?list=PL05umP7R6ij1a6KdEy8PVE9zoCv6SlHRS&si=QZYpCxuK-21xw7GH} This course provides an overview to the mathematics required for ML. [Ulrike von Luxberg, University of Tubingen]\n",
    "2. **Stanford CS229: Machine Learning Full Course**: {https://youtu.be/jGwO_UgTS7I?list=PLoROMvodv4rMiGQp3WXShtMGgzqpfVfbU} This lecture series offer complete guide to the basic concepts of ML and is one of the most popular courses followed. [Andrew Ng, Stanford University]\n",
    "3. **Machine Learning Tutorial using Python**: {https://youtu.be/tMZn54M8tGU?list=PLfP3JxW-T70Hh7j17_NLzjZ8CejSPx40V} This playlist provides an all over walkthrough in both data sciene and ML. [Indian AI Production]\n",
    "4. **Artificial Intelligence (Complete Playlist)**: {https://youtu.be/uB3i-qV6VdM?list=PLxCzCOWd7aiHGhOHV-nwb0HR5US5GFKFI} This playlist provides a complete overview on artificial intelligence. [Gate Smashers]\n",
    "5. **Programming in Python** : {https://youtu.be/8ndsDXohLMQ?list=PLDsnL5pk7-N_9oy2RN4A65Z-PEnvtc7rf} This lecture series provides a concise view on python [NPTEL: Prof. Sudharshan Iyenagar, IITRopar]\n",
    "6. **Deep Learning**: {https://youtube.com/playlist?list=PL05umP7R6ij3NTWIdtMbfvX7Z-4WEXRqD&si=Avu3fsvKMaJJGYpd} This lecture series provide a complete overview on deep learning. [Prof. Andreas Geiger, University of Tubingen]"
   ]
  },
  {
   "cell_type": "markdown",
   "metadata": {},
   "source": [
    "## Books & Materials: -\n",
    "1. **Illustrated ML**: {https://illustrated-machine-learning.github.io} Learn complex ML algorithms via illustrations.\n",
    "2. **Visual Notes**: {https://visual-ml-notes.github.io} It provides a collection of notes and materials from various ML conferences, seminars and talks.\n",
    "3. **Seeing Theory**: {https://seeing-theory.brown.edu} It provides a visual introduction to probability and statistics.\n",
    "4. **ML Explained**: {https://mlu-explain.github.io} It provides a visual guide to some of the core concepts of ML.\n",
    "5. **Machine Learning: A Probabilistic Perspective** [Kevin P. Murphy]: {https://a.co/d/6V3Y7eo} This book provides a deep dive into the probabilistic models and methods in machine learning.\n",
    "6. **Artificial Intelligence: A Modern Approach** [Stuart Russel and Peter Norvig]: {https://amzn.in/d/2OcOCzX} This is the most comprehensive and authoritative textbook on AI, covering fundamental concepts.\n",
    "7. **Machine Learning** [Tom M. Mitchell]: {https://amzn.in/d/eWpVU0w} This textbook provides a single source introduction to the primary approaches to machine learning.\n",
    "8. **Groaking Deep Learning** [Andrew W. Trask]: {https://amzn.in/d/choQz3w} This book breaks down complex concepts in a simple and intuitive manner, using easy-to-follow explanations and coding examples. "
   ]
  }
 ],
 "metadata": {
  "language_info": {
   "name": "python"
  }
 },
 "nbformat": 4,
 "nbformat_minor": 2
}
